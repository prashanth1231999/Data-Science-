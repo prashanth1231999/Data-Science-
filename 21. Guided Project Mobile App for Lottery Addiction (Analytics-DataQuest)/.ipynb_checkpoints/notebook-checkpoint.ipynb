{
 "cells": [
  {
   "cell_type": "markdown",
   "id": "52f6d62a",
   "metadata": {},
   "source": [
    "[Reference Solution Notebook](https://github.com/dataquestio/solutions/blob/master/Mission382Solutions.ipynb)"
   ]
  },
  {
   "cell_type": "code",
   "execution_count": 1,
   "id": "1124f88d",
   "metadata": {},
   "outputs": [],
   "source": [
    "import pandas as pd\n",
    "import numpy as np\n",
    "import matplotlib.pyplot as plt\n",
    "import seaborn as sns"
   ]
  },
  {
   "cell_type": "markdown",
   "id": "32af82d3",
   "metadata": {},
   "source": [
    "## 1.Guided Project: Mobile App for Lottery Addiction"
   ]
  },
  {
   "cell_type": "markdown",
   "id": "89b57964",
   "metadata": {},
   "source": [
    "In this project, we are going to contribute to the development of a mobile app by writing a couple of functions that are mostly focused on calculating probabilities. The app is aimed to both prevent and treat lottery addiction by helping people better estimate their chances of winning.\n",
    "\n",
    "The app idea comes from a medical institute which is specialized in treating gambling addictions. The institute already has a team of engineers that will build the app, but they need us to create the logical core of the app and calculate probabilities. For the first version of the app, they want us to focus on the 6/49 lottery and build functions that can answer users the following questions:\n",
    "\n",
    "* What is the probability of winning the big prize with a single ticket?\n",
    "* What is the probability of winning the big prize if we play 40 different tickets (or any other number)?\n",
    "* What is the probability of having at least five (or four, or three) winning numbers on a single ticket?\n",
    "The scenario we're following throughout this project is fictional — the main purpose is to practice applying probability and combinatorics (permutations and combinations) concepts in a setting that simulates a real-world scenario."
   ]
  },
  {
   "cell_type": "markdown",
   "id": "1054725b",
   "metadata": {},
   "source": [
    "## 2.Core Functions\n",
    "\n",
    "* Write a function named factorial() which takes as input a number n and computes the factorial of that number n. Remember that we already coded this function in the last lesson.\n",
    "\n",
    "* Write a function named combinations() which takes in two inputs (n and k) and outputs the number of combinations when we're taking only k objects from a group of n objects. Remember that we already coded this function in the last lesson."
   ]
  },
  {
   "cell_type": "code",
   "execution_count": 2,
   "id": "fe39aa7b",
   "metadata": {},
   "outputs": [],
   "source": [
    "def factorial(n):\n",
    "    f=1\n",
    "    i=2\n",
    "    while i<=n:\n",
    "        f=f*i\n",
    "        i=i+1\n",
    "    return f"
   ]
  },
  {
   "cell_type": "code",
   "execution_count": 3,
   "id": "16dacae2",
   "metadata": {},
   "outputs": [],
   "source": [
    "def combinations(n,k):\n",
    "    return factorial(n)/(factorial(k)*factorial(n-k))"
   ]
  },
  {
   "cell_type": "markdown",
   "id": "fc909c9a",
   "metadata": {},
   "source": [
    "## 3.One-ticket Probability"
   ]
  },
  {
   "cell_type": "markdown",
   "id": "2c610864",
   "metadata": {},
   "source": [
    "* Write a function named one_ticket_probability(), which takes in a list of six unique numbers and prints the probability of winning in a way that's easy to understand.\n",
    "\n",
    "\n",
    "    * Start by calculating the total number of possible outcomes — this is total number of combinations for a six-number lottery ticket. There are 49 possible numbers, and six numbers are sampled without replacement. Use the combinations() function you wrote in the previous screen.\n",
    "    * The user inputs just one combination, which means the number of successful outcomes is 1.\n",
    "    * Use the number of successful outcomes and the total number of possible outcomes to calculate the probability for one ticket.\n",
    "    * The function should print the probability in a way that's easy to understand. It's up to you what you choose, but here are a few suggestions:\n",
    "        * Print the probability as a percentage.\n",
    "        * Use the str.format() method to make the printed message more personalized with respect to what the user inputs.\n"
   ]
  },
  {
   "cell_type": "code",
   "execution_count": 4,
   "id": "baf69b37",
   "metadata": {},
   "outputs": [],
   "source": [
    "def one_ticket_probability(n):\n",
    "    d= (1/combinations(49,6))*100\n",
    "    return f\"you have {d:.7f} % of chances to win the big brize\""
   ]
  },
  {
   "cell_type": "code",
   "execution_count": 5,
   "id": "b41d8542",
   "metadata": {},
   "outputs": [
    {
     "data": {
      "text/plain": [
       "'you have 0.0000072 % of chances to win the big brize'"
      ]
     },
     "execution_count": 5,
     "metadata": {},
     "output_type": "execute_result"
    }
   ],
   "source": [
    "user_num=[10,2,3,7,33,44]\n",
    "one_ticket_probability(user_num)"
   ]
  },
  {
   "cell_type": "markdown",
   "id": "94578b35",
   "metadata": {},
   "source": [
    "## 4.Historical Data Check for Canada Lottery"
   ]
  },
  {
   "cell_type": "markdown",
   "id": "61f771c9",
   "metadata": {},
   "source": [
    "The institute also wants us to consider the data coming from the national 6/49 lottery game in Canada. The data set contains historical data for 3,665 drawings, dating from 1982 to 2018 (the data set can be downloaded from [here](https://www.kaggle.com/datascienceai/lottery-dataset))."
   ]
  },
  {
   "cell_type": "markdown",
   "id": "ec30c943",
   "metadata": {},
   "source": [
    "* Open the 649.csv file and save it as a pandas DataFrame.\n",
    "* Print the number of rows and columns of this data set.\n",
    "* Print the first and the last three rows and try to get familiar with the data set."
   ]
  },
  {
   "cell_type": "code",
   "execution_count": 6,
   "id": "81e7d8a2",
   "metadata": {},
   "outputs": [],
   "source": [
    "df=pd.read_csv(\"649.csv\")"
   ]
  },
  {
   "cell_type": "code",
   "execution_count": 7,
   "id": "fe85d355",
   "metadata": {},
   "outputs": [
    {
     "data": {
      "text/plain": [
       "(3665, 11)"
      ]
     },
     "execution_count": 7,
     "metadata": {},
     "output_type": "execute_result"
    }
   ],
   "source": [
    "df.shape"
   ]
  },
  {
   "cell_type": "code",
   "execution_count": 8,
   "id": "43af6059",
   "metadata": {},
   "outputs": [
    {
     "data": {
      "text/html": [
       "<div>\n",
       "<style scoped>\n",
       "    .dataframe tbody tr th:only-of-type {\n",
       "        vertical-align: middle;\n",
       "    }\n",
       "\n",
       "    .dataframe tbody tr th {\n",
       "        vertical-align: top;\n",
       "    }\n",
       "\n",
       "    .dataframe thead th {\n",
       "        text-align: right;\n",
       "    }\n",
       "</style>\n",
       "<table border=\"1\" class=\"dataframe\">\n",
       "  <thead>\n",
       "    <tr style=\"text-align: right;\">\n",
       "      <th></th>\n",
       "      <th>PRODUCT</th>\n",
       "      <th>DRAW NUMBER</th>\n",
       "      <th>SEQUENCE NUMBER</th>\n",
       "      <th>DRAW DATE</th>\n",
       "      <th>NUMBER DRAWN 1</th>\n",
       "      <th>NUMBER DRAWN 2</th>\n",
       "      <th>NUMBER DRAWN 3</th>\n",
       "      <th>NUMBER DRAWN 4</th>\n",
       "      <th>NUMBER DRAWN 5</th>\n",
       "      <th>NUMBER DRAWN 6</th>\n",
       "      <th>BONUS NUMBER</th>\n",
       "    </tr>\n",
       "  </thead>\n",
       "  <tbody>\n",
       "    <tr>\n",
       "      <th>0</th>\n",
       "      <td>649</td>\n",
       "      <td>1</td>\n",
       "      <td>0</td>\n",
       "      <td>6/12/1982</td>\n",
       "      <td>3</td>\n",
       "      <td>11</td>\n",
       "      <td>12</td>\n",
       "      <td>14</td>\n",
       "      <td>41</td>\n",
       "      <td>43</td>\n",
       "      <td>13</td>\n",
       "    </tr>\n",
       "    <tr>\n",
       "      <th>1</th>\n",
       "      <td>649</td>\n",
       "      <td>2</td>\n",
       "      <td>0</td>\n",
       "      <td>6/19/1982</td>\n",
       "      <td>8</td>\n",
       "      <td>33</td>\n",
       "      <td>36</td>\n",
       "      <td>37</td>\n",
       "      <td>39</td>\n",
       "      <td>41</td>\n",
       "      <td>9</td>\n",
       "    </tr>\n",
       "    <tr>\n",
       "      <th>2</th>\n",
       "      <td>649</td>\n",
       "      <td>3</td>\n",
       "      <td>0</td>\n",
       "      <td>6/26/1982</td>\n",
       "      <td>1</td>\n",
       "      <td>6</td>\n",
       "      <td>23</td>\n",
       "      <td>24</td>\n",
       "      <td>27</td>\n",
       "      <td>39</td>\n",
       "      <td>34</td>\n",
       "    </tr>\n",
       "  </tbody>\n",
       "</table>\n",
       "</div>"
      ],
      "text/plain": [
       "   PRODUCT  DRAW NUMBER  SEQUENCE NUMBER  DRAW DATE  NUMBER DRAWN 1  \\\n",
       "0      649            1                0  6/12/1982               3   \n",
       "1      649            2                0  6/19/1982               8   \n",
       "2      649            3                0  6/26/1982               1   \n",
       "\n",
       "   NUMBER DRAWN 2  NUMBER DRAWN 3  NUMBER DRAWN 4  NUMBER DRAWN 5  \\\n",
       "0              11              12              14              41   \n",
       "1              33              36              37              39   \n",
       "2               6              23              24              27   \n",
       "\n",
       "   NUMBER DRAWN 6  BONUS NUMBER  \n",
       "0              43            13  \n",
       "1              41             9  \n",
       "2              39            34  "
      ]
     },
     "execution_count": 8,
     "metadata": {},
     "output_type": "execute_result"
    }
   ],
   "source": [
    "df.head(3)"
   ]
  },
  {
   "cell_type": "code",
   "execution_count": 9,
   "id": "52e0379c",
   "metadata": {},
   "outputs": [
    {
     "data": {
      "text/html": [
       "<div>\n",
       "<style scoped>\n",
       "    .dataframe tbody tr th:only-of-type {\n",
       "        vertical-align: middle;\n",
       "    }\n",
       "\n",
       "    .dataframe tbody tr th {\n",
       "        vertical-align: top;\n",
       "    }\n",
       "\n",
       "    .dataframe thead th {\n",
       "        text-align: right;\n",
       "    }\n",
       "</style>\n",
       "<table border=\"1\" class=\"dataframe\">\n",
       "  <thead>\n",
       "    <tr style=\"text-align: right;\">\n",
       "      <th></th>\n",
       "      <th>PRODUCT</th>\n",
       "      <th>DRAW NUMBER</th>\n",
       "      <th>SEQUENCE NUMBER</th>\n",
       "      <th>DRAW DATE</th>\n",
       "      <th>NUMBER DRAWN 1</th>\n",
       "      <th>NUMBER DRAWN 2</th>\n",
       "      <th>NUMBER DRAWN 3</th>\n",
       "      <th>NUMBER DRAWN 4</th>\n",
       "      <th>NUMBER DRAWN 5</th>\n",
       "      <th>NUMBER DRAWN 6</th>\n",
       "      <th>BONUS NUMBER</th>\n",
       "    </tr>\n",
       "  </thead>\n",
       "  <tbody>\n",
       "    <tr>\n",
       "      <th>3662</th>\n",
       "      <td>649</td>\n",
       "      <td>3589</td>\n",
       "      <td>0</td>\n",
       "      <td>6/13/2018</td>\n",
       "      <td>6</td>\n",
       "      <td>22</td>\n",
       "      <td>24</td>\n",
       "      <td>31</td>\n",
       "      <td>32</td>\n",
       "      <td>34</td>\n",
       "      <td>16</td>\n",
       "    </tr>\n",
       "    <tr>\n",
       "      <th>3663</th>\n",
       "      <td>649</td>\n",
       "      <td>3590</td>\n",
       "      <td>0</td>\n",
       "      <td>6/16/2018</td>\n",
       "      <td>2</td>\n",
       "      <td>15</td>\n",
       "      <td>21</td>\n",
       "      <td>31</td>\n",
       "      <td>38</td>\n",
       "      <td>49</td>\n",
       "      <td>8</td>\n",
       "    </tr>\n",
       "    <tr>\n",
       "      <th>3664</th>\n",
       "      <td>649</td>\n",
       "      <td>3591</td>\n",
       "      <td>0</td>\n",
       "      <td>6/20/2018</td>\n",
       "      <td>14</td>\n",
       "      <td>24</td>\n",
       "      <td>31</td>\n",
       "      <td>35</td>\n",
       "      <td>37</td>\n",
       "      <td>48</td>\n",
       "      <td>17</td>\n",
       "    </tr>\n",
       "  </tbody>\n",
       "</table>\n",
       "</div>"
      ],
      "text/plain": [
       "      PRODUCT  DRAW NUMBER  SEQUENCE NUMBER  DRAW DATE  NUMBER DRAWN 1  \\\n",
       "3662      649         3589                0  6/13/2018               6   \n",
       "3663      649         3590                0  6/16/2018               2   \n",
       "3664      649         3591                0  6/20/2018              14   \n",
       "\n",
       "      NUMBER DRAWN 2  NUMBER DRAWN 3  NUMBER DRAWN 4  NUMBER DRAWN 5  \\\n",
       "3662              22              24              31              32   \n",
       "3663              15              21              31              38   \n",
       "3664              24              31              35              37   \n",
       "\n",
       "      NUMBER DRAWN 6  BONUS NUMBER  \n",
       "3662              34            16  \n",
       "3663              49             8  \n",
       "3664              48            17  "
      ]
     },
     "execution_count": 9,
     "metadata": {},
     "output_type": "execute_result"
    }
   ],
   "source": [
    "df.tail(3)"
   ]
  },
  {
   "cell_type": "markdown",
   "id": "aadad56b",
   "metadata": {},
   "source": [
    "## 5. Function for Historical Data Check"
   ]
  },
  {
   "cell_type": "markdown",
   "id": "ac543dca",
   "metadata": {},
   "source": [
    "1. Extract all the winning six numbers from the historical data set as Python sets (set is a data type in Python).\n",
    "\n",
    "    * Write a function named extract_numbers() that takes as input a row of the lottery dataframe and returns a set containing all the six winning numbers. For the first row, for instance, the function should return the set {3, 41, 11, 12, 43, 14}.\n",
    "    * Use extract_numbers() in combination with the DataFrame.apply() method to extract all the winning numbers.\n",
    "\n",
    "2. Write a function named check_historical_occurence() that takes in two inputs: a Python list containing the user numbers and a pandas Series containing sets with the winning numbers (this is the Series you'll extract using the extract_numbers() function).\n",
    "\n",
    "    * Convert the user numbers list as a set using the set() function.\n",
    "    * Compare the set against the pandas Series that contains the sets with the winning numbers to find the number of matches — a Series of Boolean values will be returned as a result of the comparison (the value will be True each time there'll be a match).\n",
    "    * Print information about the number of times the combination inputted by the user occurred in the past.\n",
    "    * Print information (in an easy-to-understand way) about the probability of winning the big prize in the next drawing with that combination."
   ]
  },
  {
   "cell_type": "code",
   "execution_count": 10,
   "id": "c8b55f64",
   "metadata": {},
   "outputs": [
    {
     "data": {
      "text/html": [
       "<div>\n",
       "<style scoped>\n",
       "    .dataframe tbody tr th:only-of-type {\n",
       "        vertical-align: middle;\n",
       "    }\n",
       "\n",
       "    .dataframe tbody tr th {\n",
       "        vertical-align: top;\n",
       "    }\n",
       "\n",
       "    .dataframe thead th {\n",
       "        text-align: right;\n",
       "    }\n",
       "</style>\n",
       "<table border=\"1\" class=\"dataframe\">\n",
       "  <thead>\n",
       "    <tr style=\"text-align: right;\">\n",
       "      <th></th>\n",
       "      <th>PRODUCT</th>\n",
       "      <th>DRAW NUMBER</th>\n",
       "      <th>SEQUENCE NUMBER</th>\n",
       "      <th>DRAW DATE</th>\n",
       "      <th>NUMBER DRAWN 1</th>\n",
       "      <th>NUMBER DRAWN 2</th>\n",
       "      <th>NUMBER DRAWN 3</th>\n",
       "      <th>NUMBER DRAWN 4</th>\n",
       "      <th>NUMBER DRAWN 5</th>\n",
       "      <th>NUMBER DRAWN 6</th>\n",
       "      <th>BONUS NUMBER</th>\n",
       "    </tr>\n",
       "  </thead>\n",
       "  <tbody>\n",
       "    <tr>\n",
       "      <th>0</th>\n",
       "      <td>649</td>\n",
       "      <td>1</td>\n",
       "      <td>0</td>\n",
       "      <td>6/12/1982</td>\n",
       "      <td>3</td>\n",
       "      <td>11</td>\n",
       "      <td>12</td>\n",
       "      <td>14</td>\n",
       "      <td>41</td>\n",
       "      <td>43</td>\n",
       "      <td>13</td>\n",
       "    </tr>\n",
       "    <tr>\n",
       "      <th>1</th>\n",
       "      <td>649</td>\n",
       "      <td>2</td>\n",
       "      <td>0</td>\n",
       "      <td>6/19/1982</td>\n",
       "      <td>8</td>\n",
       "      <td>33</td>\n",
       "      <td>36</td>\n",
       "      <td>37</td>\n",
       "      <td>39</td>\n",
       "      <td>41</td>\n",
       "      <td>9</td>\n",
       "    </tr>\n",
       "    <tr>\n",
       "      <th>2</th>\n",
       "      <td>649</td>\n",
       "      <td>3</td>\n",
       "      <td>0</td>\n",
       "      <td>6/26/1982</td>\n",
       "      <td>1</td>\n",
       "      <td>6</td>\n",
       "      <td>23</td>\n",
       "      <td>24</td>\n",
       "      <td>27</td>\n",
       "      <td>39</td>\n",
       "      <td>34</td>\n",
       "    </tr>\n",
       "    <tr>\n",
       "      <th>3</th>\n",
       "      <td>649</td>\n",
       "      <td>4</td>\n",
       "      <td>0</td>\n",
       "      <td>7/3/1982</td>\n",
       "      <td>3</td>\n",
       "      <td>9</td>\n",
       "      <td>10</td>\n",
       "      <td>13</td>\n",
       "      <td>20</td>\n",
       "      <td>43</td>\n",
       "      <td>34</td>\n",
       "    </tr>\n",
       "    <tr>\n",
       "      <th>4</th>\n",
       "      <td>649</td>\n",
       "      <td>5</td>\n",
       "      <td>0</td>\n",
       "      <td>7/10/1982</td>\n",
       "      <td>5</td>\n",
       "      <td>14</td>\n",
       "      <td>21</td>\n",
       "      <td>31</td>\n",
       "      <td>34</td>\n",
       "      <td>47</td>\n",
       "      <td>45</td>\n",
       "    </tr>\n",
       "    <tr>\n",
       "      <th>...</th>\n",
       "      <td>...</td>\n",
       "      <td>...</td>\n",
       "      <td>...</td>\n",
       "      <td>...</td>\n",
       "      <td>...</td>\n",
       "      <td>...</td>\n",
       "      <td>...</td>\n",
       "      <td>...</td>\n",
       "      <td>...</td>\n",
       "      <td>...</td>\n",
       "      <td>...</td>\n",
       "    </tr>\n",
       "    <tr>\n",
       "      <th>3660</th>\n",
       "      <td>649</td>\n",
       "      <td>3587</td>\n",
       "      <td>0</td>\n",
       "      <td>6/6/2018</td>\n",
       "      <td>10</td>\n",
       "      <td>15</td>\n",
       "      <td>23</td>\n",
       "      <td>38</td>\n",
       "      <td>40</td>\n",
       "      <td>41</td>\n",
       "      <td>35</td>\n",
       "    </tr>\n",
       "    <tr>\n",
       "      <th>3661</th>\n",
       "      <td>649</td>\n",
       "      <td>3588</td>\n",
       "      <td>0</td>\n",
       "      <td>6/9/2018</td>\n",
       "      <td>19</td>\n",
       "      <td>25</td>\n",
       "      <td>31</td>\n",
       "      <td>36</td>\n",
       "      <td>46</td>\n",
       "      <td>47</td>\n",
       "      <td>26</td>\n",
       "    </tr>\n",
       "    <tr>\n",
       "      <th>3662</th>\n",
       "      <td>649</td>\n",
       "      <td>3589</td>\n",
       "      <td>0</td>\n",
       "      <td>6/13/2018</td>\n",
       "      <td>6</td>\n",
       "      <td>22</td>\n",
       "      <td>24</td>\n",
       "      <td>31</td>\n",
       "      <td>32</td>\n",
       "      <td>34</td>\n",
       "      <td>16</td>\n",
       "    </tr>\n",
       "    <tr>\n",
       "      <th>3663</th>\n",
       "      <td>649</td>\n",
       "      <td>3590</td>\n",
       "      <td>0</td>\n",
       "      <td>6/16/2018</td>\n",
       "      <td>2</td>\n",
       "      <td>15</td>\n",
       "      <td>21</td>\n",
       "      <td>31</td>\n",
       "      <td>38</td>\n",
       "      <td>49</td>\n",
       "      <td>8</td>\n",
       "    </tr>\n",
       "    <tr>\n",
       "      <th>3664</th>\n",
       "      <td>649</td>\n",
       "      <td>3591</td>\n",
       "      <td>0</td>\n",
       "      <td>6/20/2018</td>\n",
       "      <td>14</td>\n",
       "      <td>24</td>\n",
       "      <td>31</td>\n",
       "      <td>35</td>\n",
       "      <td>37</td>\n",
       "      <td>48</td>\n",
       "      <td>17</td>\n",
       "    </tr>\n",
       "  </tbody>\n",
       "</table>\n",
       "<p>3665 rows × 11 columns</p>\n",
       "</div>"
      ],
      "text/plain": [
       "      PRODUCT  DRAW NUMBER  SEQUENCE NUMBER  DRAW DATE  NUMBER DRAWN 1  \\\n",
       "0         649            1                0  6/12/1982               3   \n",
       "1         649            2                0  6/19/1982               8   \n",
       "2         649            3                0  6/26/1982               1   \n",
       "3         649            4                0   7/3/1982               3   \n",
       "4         649            5                0  7/10/1982               5   \n",
       "...       ...          ...              ...        ...             ...   \n",
       "3660      649         3587                0   6/6/2018              10   \n",
       "3661      649         3588                0   6/9/2018              19   \n",
       "3662      649         3589                0  6/13/2018               6   \n",
       "3663      649         3590                0  6/16/2018               2   \n",
       "3664      649         3591                0  6/20/2018              14   \n",
       "\n",
       "      NUMBER DRAWN 2  NUMBER DRAWN 3  NUMBER DRAWN 4  NUMBER DRAWN 5  \\\n",
       "0                 11              12              14              41   \n",
       "1                 33              36              37              39   \n",
       "2                  6              23              24              27   \n",
       "3                  9              10              13              20   \n",
       "4                 14              21              31              34   \n",
       "...              ...             ...             ...             ...   \n",
       "3660              15              23              38              40   \n",
       "3661              25              31              36              46   \n",
       "3662              22              24              31              32   \n",
       "3663              15              21              31              38   \n",
       "3664              24              31              35              37   \n",
       "\n",
       "      NUMBER DRAWN 6  BONUS NUMBER  \n",
       "0                 43            13  \n",
       "1                 41             9  \n",
       "2                 39            34  \n",
       "3                 43            34  \n",
       "4                 47            45  \n",
       "...              ...           ...  \n",
       "3660              41            35  \n",
       "3661              47            26  \n",
       "3662              34            16  \n",
       "3663              49             8  \n",
       "3664              48            17  \n",
       "\n",
       "[3665 rows x 11 columns]"
      ]
     },
     "execution_count": 10,
     "metadata": {},
     "output_type": "execute_result"
    }
   ],
   "source": [
    "df"
   ]
  },
  {
   "cell_type": "code",
   "execution_count": 11,
   "id": "44fd25c8",
   "metadata": {},
   "outputs": [],
   "source": [
    "def extract_numbers(x):\n",
    "    l=[]\n",
    "    for i in range(len(x)):\n",
    "         l.append({x.loc[i][\"NUMBER DRAWN 1\"],x.loc[i][\"NUMBER DRAWN 2\"],x.loc[i][\"NUMBER DRAWN 3\"],\n",
    "           x.loc[i][\"NUMBER DRAWN 4\"],x.loc[i][\"NUMBER DRAWN 5\"],x.loc[i][\"NUMBER DRAWN 6\"]})\n",
    "    return l\n",
    "    "
   ]
  },
  {
   "cell_type": "code",
   "execution_count": 12,
   "id": "b589ffc9",
   "metadata": {},
   "outputs": [],
   "source": [
    "l=extract_numbers(df)"
   ]
  },
  {
   "cell_type": "code",
   "execution_count": 13,
   "id": "9136beec",
   "metadata": {},
   "outputs": [
    {
     "data": {
      "text/plain": [
       "3665"
      ]
     },
     "execution_count": 13,
     "metadata": {},
     "output_type": "execute_result"
    }
   ],
   "source": [
    "len(l)"
   ]
  },
  {
   "cell_type": "markdown",
   "id": "d78b6c59",
   "metadata": {},
   "source": [
    "check_historical_occurence() function checks whether a certain combination has occurred in the Canada lottery data set"
   ]
  },
  {
   "cell_type": "code",
   "execution_count": 14,
   "id": "69f2b758",
   "metadata": {},
   "outputs": [
    {
     "name": "stdout",
     "output_type": "stream",
     "text": [
      "1\n",
      "probability : 0.0272851\n"
     ]
    }
   ],
   "source": [
    "s=[33, 36, 37, 39, 8, 41]\n",
    "s=set(s)\n",
    "c=0\n",
    "for i in l:\n",
    "    a=s & i\n",
    "    if len(a) ==6:\n",
    "        c=c+1\n",
    "print(c)\n",
    "print(f\"probability : {c/len(l)*100:.7f}\")"
   ]
  },
  {
   "cell_type": "markdown",
   "id": "387edc89",
   "metadata": {},
   "source": [
    "## 6.Multi-ticket Probability"
   ]
  },
  {
   "cell_type": "markdown",
   "id": "5f7dfe7c",
   "metadata": {},
   "source": [
    "For the first version of the app, users should also be able to find the probability of winning if they play multiple different tickets. For instance, someone might intend to play 15 different tickets and they want to know the probability of winning the big prize.\n",
    "\n",
    "The engineering team wants us to be aware of the following details when we're writing the function:\n",
    "\n",
    "* The user will input the number of different tickets they want to play (without inputting the specific combinations they intend to play).\n",
    "* Our function will see an integer between 1 and 13,983,816 (the maximum number of different tickets).\n",
    "* The function should print information about the probability of winning the big prize depending on the number of different tickets played.\n",
    "\n",
    "The multi_ticket_probability() function below takes in the number of tickets and prints probability information depending on the input."
   ]
  },
  {
   "cell_type": "markdown",
   "id": "974db94d",
   "metadata": {},
   "source": [
    "### Instructions"
   ]
  },
  {
   "cell_type": "markdown",
   "id": "3ede49c2",
   "metadata": {},
   "source": [
    "Write a function named multi_ticket_probability() that prints the probability of winning the big prize depending on the number of different tickets played.\n",
    "\n",
    "* Start by calculating the total number of possible outcomes — this is total number of combinations for a six-number lottery ticket. There are 49 total numbers, and six numbers are sampled without replacement. Use the combinations() function you wrote in a previous screen.\n",
    "* The number of successful outcomes is given by the number of tickets the user intends to play.\n",
    "* Use the number of successful outcomes and the total number of possible outcomes to calculate the probability for the number of tickets inputted.\n",
    "* The function should print the probability in a way that's easy to understand. It's up to you what you choose, but here are a few suggestions:\n",
    "    * Print the probability as a percentage.\n",
    "    * Use the str.format() method to make the printed message more personalized with respect to what the user inputs.\n"
   ]
  },
  {
   "cell_type": "code",
   "execution_count": 15,
   "id": "40f4f256",
   "metadata": {},
   "outputs": [],
   "source": [
    "def multi_ticket_probability(n):\n",
    "    return f\"Probability: {n/combinations(49,6)*100:.6f}\"\n"
   ]
  },
  {
   "cell_type": "code",
   "execution_count": 16,
   "id": "d275dd15",
   "metadata": {},
   "outputs": [
    {
     "data": {
      "text/plain": [
       "'Probability: 0.007151'"
      ]
     },
     "execution_count": 16,
     "metadata": {},
     "output_type": "execute_result"
    }
   ],
   "source": [
    "multi_ticket_probability(1000)"
   ]
  },
  {
   "cell_type": "code",
   "execution_count": 22,
   "id": "d20a6960",
   "metadata": {},
   "outputs": [
    {
     "name": "stdout",
     "output_type": "stream",
     "text": [
      "Number of tickets 1 and its Probability: 0.000007 %\n",
      "Number of tickets 10 and its Probability: 0.000072 %\n",
      "Number of tickets 100 and its Probability: 0.000715 %\n",
      "Number of tickets 10000 and its Probability: 0.071511 %\n",
      "Number of tickets 1000000 and its Probability: 7.151124 %\n",
      "Number of tickets 6991908 and its Probability: 50.000000 %\n",
      "Number of tickets 13983816 and its Probability: 100.000000 %\n"
     ]
    }
   ],
   "source": [
    "for i in  [1, 10, 100, 10000, 1000000, 6991908, 13983816]:\n",
    "    print(f\"Number of tickets {i} and its {multi_ticket_probability(i)} %\")"
   ]
  },
  {
   "cell_type": "markdown",
   "id": "246da3c0",
   "metadata": {},
   "source": [
    "## 7.Less Winning Numbers — Function"
   ]
  },
  {
   "cell_type": "markdown",
   "id": "67c122a4",
   "metadata": {},
   "source": [
    "Write a function named probability_less_6() which takes in an integer between 2 and 5 and prints information about the chances of winning depending on the value of that integer.\n",
    "\n",
    "* First, calculate the number of successful outcomes given the value of the input. We already covered how to calculate this when the input is 5 — when the input is lower, we need to take the same approach (but be careful, the number of combinations will vary). If you get stuck, try to sneak a look at the [solution notebook.](https://github.com/dataquestio/solutions/blob/master/Mission382Solutions.ipynb)\n",
    "* Second, calculate the number of total possible outcomes.\n",
    "* Calculate the probability using the number of successful outcomes and the number of total possible outcomes.\n",
    "* Display the probability value in a way that will be easy to understand for the user."
   ]
  },
  {
   "cell_type": "code",
   "execution_count": 23,
   "id": "36688570",
   "metadata": {},
   "outputs": [],
   "source": [
    "def probability_less_6(n):\n",
    "    s=combinations(6,n)*(49-1-n)\n",
    "    t=combinations(49,6)\n",
    "    print(f\"Probability in %: {s/t*100:.6f}\")\n"
   ]
  },
  {
   "cell_type": "code",
   "execution_count": 24,
   "id": "b44d505f",
   "metadata": {},
   "outputs": [
    {
     "name": "stdout",
     "output_type": "stream",
     "text": [
      "Probability in %: 0.001845\n"
     ]
    }
   ],
   "source": [
    "probability_less_6(5)"
   ]
  },
  {
   "cell_type": "code",
   "execution_count": 25,
   "id": "c892c5ad",
   "metadata": {},
   "outputs": [
    {
     "name": "stdout",
     "output_type": "stream",
     "text": [
      "Probability in %: 0.004934\n",
      "Probability in %: 0.006436\n",
      "Probability in %: 0.004720\n",
      "Probability in %: 0.001845\n"
     ]
    }
   ],
   "source": [
    "for i in range(2,6):\n",
    "    probability_less_6(i)"
   ]
  },
  {
   "cell_type": "code",
   "execution_count": 35,
   "id": "5884dfb5",
   "metadata": {},
   "outputs": [
    {
     "data": {
      "text/plain": [
       "178365.0"
      ]
     },
     "execution_count": 35,
     "metadata": {},
     "output_type": "execute_result"
    }
   ],
   "source": [
    "combinations(47,4)"
   ]
  },
  {
   "cell_type": "code",
   "execution_count": 36,
   "id": "b1648bef",
   "metadata": {},
   "outputs": [
    {
     "data": {
      "text/plain": [
       "2675460.0"
      ]
     },
     "execution_count": 36,
     "metadata": {},
     "output_type": "execute_result"
    }
   ],
   "source": [
    "(178365.0-1)*15"
   ]
  },
  {
   "cell_type": "code",
   "execution_count": 37,
   "id": "fd9ec108",
   "metadata": {},
   "outputs": [
    {
     "data": {
      "text/plain": [
       "0.1913254579436686"
      ]
     },
     "execution_count": 37,
     "metadata": {},
     "output_type": "execute_result"
    }
   ],
   "source": [
    "2675460.0/13983816"
   ]
  },
  {
   "cell_type": "code",
   "execution_count": null,
   "id": "c725de56",
   "metadata": {},
   "outputs": [],
   "source": []
  }
 ],
 "metadata": {
  "kernelspec": {
   "display_name": "Python 3 (ipykernel)",
   "language": "python",
   "name": "python3"
  },
  "language_info": {
   "codemirror_mode": {
    "name": "ipython",
    "version": 3
   },
   "file_extension": ".py",
   "mimetype": "text/x-python",
   "name": "python",
   "nbconvert_exporter": "python",
   "pygments_lexer": "ipython3",
   "version": "3.10.9"
  }
 },
 "nbformat": 4,
 "nbformat_minor": 5
}
