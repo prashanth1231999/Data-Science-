{
 "cells": [
  {
   "cell_type": "markdown",
   "id": "60be64d7-347e-4d95-a1ba-dc475c589eec",
   "metadata": {},
   "source": [
    "![trainers in a store](trainers.jpg)\n",
    "\n",
    "Sports clothing and athleisure attire is a huge industry, worth approximately [$193 billion in 2021](https://www.statista.com/statistics/254489/total-revenue-of-the-global-sports-apparel-market/) with a strong growth forecast over the next decade! \n",
    "\n",
    "In this notebook, you will undertake the role of a product analyst for an online sports clothing company. The company is specifically interested in how it can improve revenue. You will dive into product data such as pricing, reviews, descriptions, and ratings, as well as revenue and website traffic, to produce recommendations for its marketing and sales teams.  \n",
    "\n",
    "You've been provided with five datasets to investigate:\n",
    "* `info.csv`\n",
    "* `finance.csv`\n",
    "* `reviews.csv`\n",
    "* `traffic.csv`\n",
    "* `brands.csv`\n",
    "\n",
    "The company has asked you to answer the following questions:\n",
    "\n",
    "## What is the volume of products and average revenue for Adidas and Nike products based on price quartiles?\n",
    "\n",
    "* Label products priced up to quartile one as `\"Budget\"`, quartile 2 as `\"Average\"`, quartile 3 as `\"Expensive\"`, and quartile 4 as `\"Elite\"`.\n",
    "* Store as a `pandas` DataFrame called `adidas_vs_nike` containing the following columns: `\"brand\"`, `\"price_label\"`, `\"num_products\"`, and `\"mean_revenue\"`.\n",
    "\n",
    "## Do any differences exist between the word count of a product's description and its mean rating?\n",
    "\n",
    "* Store the results as a `pandas` DataFrame called `description_lengths` containing the following columns: `\"description_length\"`, `\"mean_rating\"`, `\"num_reviews\"`.\n",
    "\n",
    "## How does the volume of products and median revenue vary between clothing and footwear?\n",
    "\n",
    "* **Create** a `pandas` DataFrame called `product_types` containing the following columns: `\"num_clothing_products\"`, `\"median_clothing_revenue\"`, `\"num_footwear_products\"`, `\"median_footwear_revenue\"`."
   ]
  },
  {
   "cell_type": "code",
   "execution_count": 1,
   "id": "d0eb4f16-5a99-460d-a5ba-706b7ef0bbe7",
   "metadata": {
    "executionTime": 18,
    "id": "bA5ajAmk7XH6",
    "lastSuccessfullyExecutedCode": "# Start coding here... \nimport pandas as pd"
   },
   "outputs": [],
   "source": [
    "# Start coding here... \n",
    "import pandas as pd\n",
    "import numpy as np"
   ]
  },
  {
   "cell_type": "code",
   "execution_count": 3,
   "id": "7b40f79f",
   "metadata": {},
   "outputs": [
    {
     "data": {
      "text/html": [
       "<div>\n",
       "<style scoped>\n",
       "    .dataframe tbody tr th:only-of-type {\n",
       "        vertical-align: middle;\n",
       "    }\n",
       "\n",
       "    .dataframe tbody tr th {\n",
       "        vertical-align: top;\n",
       "    }\n",
       "\n",
       "    .dataframe thead th {\n",
       "        text-align: right;\n",
       "    }\n",
       "</style>\n",
       "<table border=\"1\" class=\"dataframe\">\n",
       "  <thead>\n",
       "    <tr style=\"text-align: right;\">\n",
       "      <th></th>\n",
       "      <th>product_name</th>\n",
       "      <th>product_id</th>\n",
       "      <th>description</th>\n",
       "    </tr>\n",
       "  </thead>\n",
       "  <tbody>\n",
       "    <tr>\n",
       "      <th>0</th>\n",
       "      <td>NaN</td>\n",
       "      <td>AH2430</td>\n",
       "      <td>NaN</td>\n",
       "    </tr>\n",
       "    <tr>\n",
       "      <th>1</th>\n",
       "      <td>Women's adidas Originals Sleek Shoes</td>\n",
       "      <td>G27341</td>\n",
       "      <td>A modern take on adidas sport heritage, tailor...</td>\n",
       "    </tr>\n",
       "    <tr>\n",
       "      <th>2</th>\n",
       "      <td>Women's adidas Swim Puka Slippers</td>\n",
       "      <td>CM0081</td>\n",
       "      <td>These adidas Puka slippers for women's come wi...</td>\n",
       "    </tr>\n",
       "    <tr>\n",
       "      <th>3</th>\n",
       "      <td>Women's adidas Sport Inspired Questar Ride Shoes</td>\n",
       "      <td>B44832</td>\n",
       "      <td>Inspired by modern tech runners, these women's...</td>\n",
       "    </tr>\n",
       "    <tr>\n",
       "      <th>4</th>\n",
       "      <td>Women's adidas Originals Taekwondo Shoes</td>\n",
       "      <td>D98205</td>\n",
       "      <td>This design is inspired by vintage Taekwondo s...</td>\n",
       "    </tr>\n",
       "    <tr>\n",
       "      <th>...</th>\n",
       "      <td>...</td>\n",
       "      <td>...</td>\n",
       "      <td>...</td>\n",
       "    </tr>\n",
       "    <tr>\n",
       "      <th>3174</th>\n",
       "      <td>Nike Tiempo Legend 8 Academy TF</td>\n",
       "      <td>AT6100-606</td>\n",
       "      <td>The Nike Tiempo Legend 8 Academy TF takes the ...</td>\n",
       "    </tr>\n",
       "    <tr>\n",
       "      <th>3175</th>\n",
       "      <td>Nike React Metcon AMP</td>\n",
       "      <td>CT9155-063</td>\n",
       "      <td>The Nike React Metcon AMP takes the stability ...</td>\n",
       "    </tr>\n",
       "    <tr>\n",
       "      <th>3176</th>\n",
       "      <td>Air Jordan 8 Retro</td>\n",
       "      <td>CI1236-100</td>\n",
       "      <td>The Air Jordan 8 Retro recaptures the memorabl...</td>\n",
       "    </tr>\n",
       "    <tr>\n",
       "      <th>3177</th>\n",
       "      <td>Nike Air Max 98</td>\n",
       "      <td>AH6799-300</td>\n",
       "      <td>The Nike Air Max 98 features the OG design lin...</td>\n",
       "    </tr>\n",
       "    <tr>\n",
       "      <th>3178</th>\n",
       "      <td>Nike P-6000 SE</td>\n",
       "      <td>CJ9585-600</td>\n",
       "      <td>A mash-up of Pegasus' past, the Nike P-6000 SE...</td>\n",
       "    </tr>\n",
       "  </tbody>\n",
       "</table>\n",
       "<p>3179 rows × 3 columns</p>\n",
       "</div>"
      ],
      "text/plain": [
       "                                          product_name  product_id  \\\n",
       "0                                                  NaN      AH2430   \n",
       "1                 Women's adidas Originals Sleek Shoes      G27341   \n",
       "2                    Women's adidas Swim Puka Slippers      CM0081   \n",
       "3     Women's adidas Sport Inspired Questar Ride Shoes      B44832   \n",
       "4             Women's adidas Originals Taekwondo Shoes      D98205   \n",
       "...                                                ...         ...   \n",
       "3174                   Nike Tiempo Legend 8 Academy TF  AT6100-606   \n",
       "3175                             Nike React Metcon AMP  CT9155-063   \n",
       "3176                                Air Jordan 8 Retro  CI1236-100   \n",
       "3177                                   Nike Air Max 98  AH6799-300   \n",
       "3178                                    Nike P-6000 SE  CJ9585-600   \n",
       "\n",
       "                                            description  \n",
       "0                                                   NaN  \n",
       "1     A modern take on adidas sport heritage, tailor...  \n",
       "2     These adidas Puka slippers for women's come wi...  \n",
       "3     Inspired by modern tech runners, these women's...  \n",
       "4     This design is inspired by vintage Taekwondo s...  \n",
       "...                                                 ...  \n",
       "3174  The Nike Tiempo Legend 8 Academy TF takes the ...  \n",
       "3175  The Nike React Metcon AMP takes the stability ...  \n",
       "3176  The Air Jordan 8 Retro recaptures the memorabl...  \n",
       "3177  The Nike Air Max 98 features the OG design lin...  \n",
       "3178  A mash-up of Pegasus' past, the Nike P-6000 SE...  \n",
       "\n",
       "[3179 rows x 3 columns]"
      ]
     },
     "execution_count": 3,
     "metadata": {},
     "output_type": "execute_result"
    }
   ],
   "source": [
    "info=pd.read_csv(\"info.csv\")\n",
    "info"
   ]
  },
  {
   "cell_type": "code",
   "execution_count": 5,
   "id": "d26abfb8",
   "metadata": {},
   "outputs": [
    {
     "data": {
      "text/plain": [
       "product_name    59\n",
       "product_id       0\n",
       "description     62\n",
       "dtype: int64"
      ]
     },
     "execution_count": 5,
     "metadata": {},
     "output_type": "execute_result"
    }
   ],
   "source": [
    "info.isna().sum()"
   ]
  },
  {
   "cell_type": "code",
   "execution_count": null,
   "id": "c53774ec",
   "metadata": {},
   "outputs": [],
   "source": []
  }
 ],
 "metadata": {
  "colab": {
   "name": "Welcome to DataCamp Workspaces.ipynb",
   "provenance": []
  },
  "kernelspec": {
   "display_name": "Python 3 (ipykernel)",
   "language": "python",
   "name": "python3"
  },
  "language_info": {
   "codemirror_mode": {
    "name": "ipython",
    "version": 3
   },
   "file_extension": ".py",
   "mimetype": "text/x-python",
   "name": "python",
   "nbconvert_exporter": "python",
   "pygments_lexer": "ipython3",
   "version": "3.10.9"
  }
 },
 "nbformat": 4,
 "nbformat_minor": 5
}
